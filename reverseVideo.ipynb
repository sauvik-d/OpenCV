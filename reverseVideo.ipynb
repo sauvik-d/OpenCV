{
 "cells": [
  {
   "cell_type": "code",
   "execution_count": 1,
   "id": "7e268fb1",
   "metadata": {},
   "outputs": [],
   "source": [
    "import cv2"
   ]
  },
  {
   "cell_type": "code",
   "execution_count": 9,
   "id": "4c1aadff",
   "metadata": {},
   "outputs": [],
   "source": [
    "#Video Capture Instance\n",
    "cap = cv2.VideoCapture('video1.mp4')\n"
   ]
  },
  {
   "cell_type": "code",
   "execution_count": 10,
   "id": "8af13c04",
   "metadata": {},
   "outputs": [],
   "source": [
    "#Properties of Video\n",
    "\n",
    "#Total number of frames in video\n",
    "frames = cap.get(cv2.CAP_PROP_FRAME_COUNT)\n",
    "\n",
    "#Frames per second of video\n",
    "fps = cap.get(cv2.CAP_PROP_FPS)\n",
    "\n",
    "#height and width of video\n",
    "height = cap.get(cv2.CAP_PROP_FRAME_HEIGHT)\n",
    "width = cap.get(cv2.CAP_PROP_FRAME_WIDTH)"
   ]
  },
  {
   "cell_type": "code",
   "execution_count": 14,
   "id": "bdd6d74b",
   "metadata": {},
   "outputs": [
    {
     "name": "stdout",
     "output_type": "stream",
     "text": [
      "No. of frames are : 230.0\n",
      "FPS is :29.92380272263237\n"
     ]
    }
   ],
   "source": [
    "#Initiating the Output writer for Video\n",
    "fourcc = cv2.VideoWriter_fourcc(*'mp4v')\n",
    "out = cv2.VideoWriter('reversed.mp4', fourcc,fps ,(int(width*0.5), int(height*0.5)))\n",
    "\n",
    "print(\"No. of frames are : {}\".format(frames))\n",
    "print(\"FPS is :{}\".format(fps))"
   ]
  },
  {
   "cell_type": "code",
   "execution_count": 15,
   "id": "0a49cbfd",
   "metadata": {},
   "outputs": [
    {
     "name": "stdout",
     "output_type": "stream",
     "text": [
      "200.0\n",
      "100.0\n",
      "0.0\n"
     ]
    }
   ],
   "source": [
    "# We get the index of the last frame of the video file\n",
    "frame_index = frames-1\n",
    "\n",
    "#Checking if the video instance is ready\n",
    "if(cap.isOpened()):\n",
    "    #Reading till the end of the video\n",
    "    while(frame_index!=0):\n",
    "        # We set the current frame position to last frame\n",
    "        cap.set(cv2.CAP_PROP_POS_FRAMES, frame_index)\n",
    "        ret, frame = cap.read()\n",
    "\n",
    "        #Resize the frame\n",
    "        frame = cv2.resize(frame,(int(width*0.5), int(height*0.5)))\n",
    "\n",
    "        #OPTIONAL : To show the reversing video\n",
    "        #cv2.imshow('winname', frame)\n",
    "\n",
    "        #Writing the reversed video \n",
    "        out.write(frame)\n",
    "        #Decrementing Frame index at each step\n",
    "        frame_index = frame_index-1\n",
    "\n",
    "        #Printing the progress\n",
    "        if(frame_index%100==0):\n",
    "            print(frame_index)\n",
    "        # if(cv2.waitKey(2)==ord('q')):\n",
    "        # \tbreak"
   ]
  },
  {
   "cell_type": "code",
   "execution_count": null,
   "id": "43d90037",
   "metadata": {},
   "outputs": [],
   "source": []
  }
 ],
 "metadata": {
  "kernelspec": {
   "display_name": "Python 3 (ipykernel)",
   "language": "python",
   "name": "python3"
  },
  "language_info": {
   "codemirror_mode": {
    "name": "ipython",
    "version": 3
   },
   "file_extension": ".py",
   "mimetype": "text/x-python",
   "name": "python",
   "nbconvert_exporter": "python",
   "pygments_lexer": "ipython3",
   "version": "3.12.3"
  }
 },
 "nbformat": 4,
 "nbformat_minor": 5
}
