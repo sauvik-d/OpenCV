{
 "cells": [
  {
   "cell_type": "code",
   "execution_count": 1,
   "id": "de96ab35-e0d1-4604-a9d4-05d546d2e495",
   "metadata": {},
   "outputs": [],
   "source": [
    "import cv2\n",
    "import numpy as np"
   ]
  },
  {
   "cell_type": "code",
   "execution_count": 3,
   "id": "24544a62-0986-463a-bb8e-e488e4bc739e",
   "metadata": {},
   "outputs": [],
   "source": [
    "image = cv2.imread('images.jpeg')\n"
   ]
  },
  {
   "cell_type": "code",
   "execution_count": 4,
   "id": "f3c24c46-cbd0-4c5a-8628-7f8dd0507733",
   "metadata": {},
   "outputs": [],
   "source": [
    "image_re_linear = cv2.resize(image, None, fx=2.5, fy=2.5, interpolation=cv2.INTER_LINEAR)"
   ]
  },
  {
   "cell_type": "code",
   "execution_count": 5,
   "id": "ce34fdff-109e-42e0-b7fd-2e0b06a0dd3e",
   "metadata": {},
   "outputs": [],
   "source": [
    "image_re_cubic = cv2.resize(image, None, fx=2.5, fy=2.5, interpolation=cv2.INTER_CUBIC)"
   ]
  },
  {
   "cell_type": "code",
   "execution_count": 6,
   "id": "b0da345b-983c-4445-9f09-7e9fa6353b1f",
   "metadata": {},
   "outputs": [],
   "source": [
    "cv2.imshow('Linear', image_re_linear)\n",
    "cv2.imshow('Cubic', image_re_cubic)\n",
    "cv2.imshow('Original', image)\n",
    "\n",
    "if(cv2.waitKey()==ord('q')):\n",
    "    cv2.destroyAllWindows()"
   ]
  },
  {
   "cell_type": "code",
   "execution_count": null,
   "id": "19cbc09f-704d-4dca-8aa2-3e7ef0271a96",
   "metadata": {},
   "outputs": [],
   "source": []
  }
 ],
 "metadata": {
  "kernelspec": {
   "display_name": "Python 3 (ipykernel)",
   "language": "python",
   "name": "python3"
  },
  "language_info": {
   "codemirror_mode": {
    "name": "ipython",
    "version": 3
   },
   "file_extension": ".py",
   "mimetype": "text/x-python",
   "name": "python",
   "nbconvert_exporter": "python",
   "pygments_lexer": "ipython3",
   "version": "3.12.4"
  }
 },
 "nbformat": 4,
 "nbformat_minor": 5
}
