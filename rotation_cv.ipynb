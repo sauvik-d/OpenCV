{
 "cells": [
  {
   "cell_type": "code",
   "execution_count": 1,
   "id": "0d42f076-c303-4906-908f-c1573169738d",
   "metadata": {},
   "outputs": [],
   "source": [
    "import cv2\n",
    "import numpy"
   ]
  },
  {
   "cell_type": "code",
   "execution_count": 6,
   "id": "25eae736-d113-4c6c-99d4-df2dbaf672d1",
   "metadata": {},
   "outputs": [],
   "source": [
    "image = cv2.imread('images.jpeg')\n",
    "#Loading image from memory"
   ]
  },
  {
   "cell_type": "code",
   "execution_count": 5,
   "id": "5166f7c8-c1aa-4984-a5f4-d61755c48145",
   "metadata": {},
   "outputs": [
    {
     "data": {
      "text/plain": [
       "(225, 225, 3)"
      ]
     },
     "execution_count": 5,
     "metadata": {},
     "output_type": "execute_result"
    }
   ],
   "source": [
    "height, width = image.shape[:2]\n",
    "image.shape"
   ]
  },
  {
   "cell_type": "code",
   "execution_count": 7,
   "id": "f52ada67-ee5d-4d24-9251-d37026010e54",
   "metadata": {},
   "outputs": [],
   "source": [
    "#Translation matrix\n",
    "matrix = cv2.getRotationMatrix2D((width/2,height/2), 10, 1)"
   ]
  },
  {
   "cell_type": "code",
   "execution_count": 8,
   "id": "dabd0a0a-04aa-4815-9928-82094907ce37",
   "metadata": {},
   "outputs": [],
   "source": [
    "#Applying the matrix to the image \n",
    "translated = cv2.warpAffine(image, matrix, (width, height))"
   ]
  },
  {
   "cell_type": "code",
   "execution_count": 9,
   "id": "70f8d3a5-4daa-4454-8806-8113c2dbc9c4",
   "metadata": {},
   "outputs": [],
   "source": [
    "cv2.imshow('translation', translated)\n",
    "\n",
    "if(cv2.waitKey()==ord('q')):\n",
    "    cv2.destroyAllWindows()"
   ]
  },
  {
   "cell_type": "code",
   "execution_count": null,
   "id": "72f5e568-de88-463d-9453-44763db2b013",
   "metadata": {},
   "outputs": [],
   "source": []
  }
 ],
 "metadata": {
  "kernelspec": {
   "display_name": "Python 3 (ipykernel)",
   "language": "python",
   "name": "python3"
  },
  "language_info": {
   "codemirror_mode": {
    "name": "ipython",
    "version": 3
   },
   "file_extension": ".py",
   "mimetype": "text/x-python",
   "name": "python",
   "nbconvert_exporter": "python",
   "pygments_lexer": "ipython3",
   "version": "3.12.4"
  }
 },
 "nbformat": 4,
 "nbformat_minor": 5
}
