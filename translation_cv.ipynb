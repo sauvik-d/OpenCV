{
 "cells": [
  {
   "cell_type": "code",
   "execution_count": 3,
   "id": "16915df6-e547-416a-bd59-8828e6261a1c",
   "metadata": {},
   "outputs": [],
   "source": [
    "import cv2\n",
    "import numpy as np"
   ]
  },
  {
   "cell_type": "code",
   "execution_count": 4,
   "id": "39894069-1a02-4036-baa8-d0d320339bb1",
   "metadata": {},
   "outputs": [],
   "source": [
    "image = cv2.imread('IMG-20241013-WA0005.jpg')"
   ]
  },
  {
   "cell_type": "code",
   "execution_count": 5,
   "id": "c58494dc-5789-4c36-8d4a-dfe892108e02",
   "metadata": {},
   "outputs": [],
   "source": [
    "matrix = np.float32([[1, 0, 100], [0, 1, 100]])"
   ]
  },
  {
   "cell_type": "code",
   "execution_count": 8,
   "id": "94d5da57-03d5-441f-929c-44eb2f6c6a24",
   "metadata": {},
   "outputs": [],
   "source": [
    "translated = cv2.warpAffine(image, matrix, (image.shape[1]+10, image.shape[0]+10))"
   ]
  },
  {
   "cell_type": "code",
   "execution_count": 9,
   "id": "e12b0c93-297f-4dce-850d-ddca2ae43c13",
   "metadata": {},
   "outputs": [],
   "source": [
    "cv2.imshow('translation', translated)\n",
    "\n",
    "if(cv2.waitKey()==ord('q')):\n",
    "    cv2.destroyAllWindows()"
   ]
  },
  {
   "cell_type": "code",
   "execution_count": null,
   "id": "a609c6bd-c48e-4e3e-9797-536ec862912c",
   "metadata": {},
   "outputs": [],
   "source": []
  }
 ],
 "metadata": {
  "kernelspec": {
   "display_name": "Python 3 (ipykernel)",
   "language": "python",
   "name": "python3"
  },
  "language_info": {
   "codemirror_mode": {
    "name": "ipython",
    "version": 3
   },
   "file_extension": ".py",
   "mimetype": "text/x-python",
   "name": "python",
   "nbconvert_exporter": "python",
   "pygments_lexer": "ipython3",
   "version": "3.12.4"
  }
 },
 "nbformat": 4,
 "nbformat_minor": 5
}
