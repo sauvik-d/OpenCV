{
 "cells": [
  {
   "cell_type": "code",
   "execution_count": 2,
   "id": "0d66f5fb",
   "metadata": {},
   "outputs": [],
   "source": [
    "import cv2\n"
   ]
  },
  {
   "cell_type": "code",
   "execution_count": 3,
   "id": "575a9be2",
   "metadata": {},
   "outputs": [],
   "source": [
    "image = cv2.imread('images.jpeg', cv2.IMREAD_COLOR)\n",
    "# cv2.IMREAD_GREYSCALE, cv2.IMREAD_UNCHANGED"
   ]
  },
  {
   "cell_type": "code",
   "execution_count": 4,
   "id": "dcc88005",
   "metadata": {},
   "outputs": [],
   "source": [
    "# function to display\n",
    "cv2.imshow('test image', image)\n",
    "\n",
    "cv2.waitKey(2000)\n",
    "cv2.destroyAllWindows()"
   ]
  },
  {
   "cell_type": "code",
   "execution_count": 12,
   "id": "fb1e603d-093c-4766-8ab4-7642f9618c5c",
   "metadata": {},
   "outputs": [
    {
     "name": "stdout",
     "output_type": "stream",
     "text": [
      "Frames are 30.0\n"
     ]
    }
   ],
   "source": [
    "cap = cv2.VideoCapture(0)\n",
    "opened = cap.isOpened()\n",
    "#fourcc - four character code for determining the codec of the video file\n",
    "fourcc = cv2.VideoWriter_fourcc(*'MJPG')\n",
    "\n",
    "\n",
    "#Getting the properties of the video using video capture instance\n",
    "height = cap.get(cv2.CAP_PROP_FRAME_HEIGHT)\n",
    "width = cap.get(cv2.CAP_PROP_FRAME_WIDTH)\n",
    "fps = cap.get(cv2.CAP_PROP_FPS)\n",
    "\n",
    "# output video writer creation\n",
    "out = cv2.VideoWriter('jj.avi', fourcc,fps ,(int(width), int(height)))\n",
    "\n",
    "print(\"Frames are {}\".format(fps))"
   ]
  },
  {
   "cell_type": "code",
   "execution_count": 13,
   "id": "e359ef30-f698-4f31-8b69-bf5a54a0bfcd",
   "metadata": {},
   "outputs": [],
   "source": [
    "if(opened):\n",
    "\t#Run until it remains open\n",
    "\twhile(cap.isOpened()):\n",
    "\t\t#Get the frame from Video capture Instance\n",
    "\t\tret, frame = cap.read()\n",
    "\t\t#\n",
    "\t\t#return ret Variable tells if the frame is returned successfully\n",
    "\t\tif(ret==True):\n",
    "\t\t\tcv2.imshow('winname', frame)\n",
    "\t\t\t#Writing the frame to video output\n",
    "\t\t\tout.write(frame)\n",
    "\t\t\t#Wait for 2 milliseconds for each frame \n",
    "\t\t\t#If user press 'esc' key then exit loop\n",
    "\t\t\tif(cv2.waitKey(2)==27):\n",
    "\t\t\t\tbreak\n",
    "out.release()\n",
    "cap.release()\n",
    "cv2.destroyAllWindows()"
   ]
  },
  {
   "cell_type": "code",
   "execution_count": null,
   "id": "16ad9efb",
   "metadata": {},
   "outputs": [],
   "source": []
  },
  {
   "cell_type": "code",
   "execution_count": null,
   "id": "5315d8dd",
   "metadata": {},
   "outputs": [],
   "source": []
  },
  {
   "cell_type": "code",
   "execution_count": null,
   "id": "cc869c26",
   "metadata": {},
   "outputs": [],
   "source": []
  },
  {
   "cell_type": "code",
   "execution_count": null,
   "id": "759abbad",
   "metadata": {},
   "outputs": [],
   "source": []
  }
 ],
 "metadata": {
  "kernelspec": {
   "display_name": "Python 3 (ipykernel)",
   "language": "python",
   "name": "python3"
  },
  "language_info": {
   "codemirror_mode": {
    "name": "ipython",
    "version": 3
   },
   "file_extension": ".py",
   "mimetype": "text/x-python",
   "name": "python",
   "nbconvert_exporter": "python",
   "pygments_lexer": "ipython3",
   "version": "3.12.4"
  }
 },
 "nbformat": 4,
 "nbformat_minor": 5
}
