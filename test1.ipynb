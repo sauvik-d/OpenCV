{
 "cells": [
  {
   "cell_type": "code",
   "execution_count": 2,
   "id": "0d66f5fb",
   "metadata": {},
   "outputs": [],
   "source": [
    "import cv2"
   ]
  },
  {
   "cell_type": "code",
   "execution_count": 3,
   "id": "575a9be2",
   "metadata": {},
   "outputs": [],
   "source": [
    "image = cv2.imread('images.jpeg', cv2.IMREAD_COLOR)\n",
    "# cv2.IMREAD_GREYSCALE, cv2.IMREAD_UNCHANGED"
   ]
  },
  {
   "cell_type": "code",
   "execution_count": 4,
   "id": "dcc88005",
   "metadata": {},
   "outputs": [],
   "source": [
    "# function to display\n",
    "cv2.imshow('test image', image)\n",
    "\n",
    "cv2.waitKey(2000)\n",
    "cv2.destroyAllWindows()"
   ]
  },
  {
   "cell_type": "code",
   "execution_count": 5,
   "id": "16ad9efb",
   "metadata": {},
   "outputs": [],
   "source": [
    "cap = cv2.VideoCapture('video1.mp4')\n",
    "opened = cap.isOpened()"
   ]
  },
  {
   "cell_type": "code",
   "execution_count": null,
   "id": "5315d8dd",
   "metadata": {},
   "outputs": [],
   "source": [
    "if(opened):\n",
    "    while(cap.isOpened()):\n",
    "        ret, frame = cap.read()\n",
    "        if(ret == True):\n",
    "            cv2.imshow(\"winname\", frame)\n",
    "            if(cv2.waitKey(2) == 27):\n",
    "#                cv2.destroyAllWindows()\n",
    "                break\n",
    "            \n",
    "cv2.destroyAllWindows()           "
   ]
  },
  {
   "cell_type": "code",
   "execution_count": null,
   "id": "cc869c26",
   "metadata": {},
   "outputs": [],
   "source": []
  },
  {
   "cell_type": "code",
   "execution_count": null,
   "id": "759abbad",
   "metadata": {},
   "outputs": [],
   "source": []
  }
 ],
 "metadata": {
  "kernelspec": {
   "display_name": "Python 3 (ipykernel)",
   "language": "python",
   "name": "python3"
  },
  "language_info": {
   "codemirror_mode": {
    "name": "ipython",
    "version": 3
   },
   "file_extension": ".py",
   "mimetype": "text/x-python",
   "name": "python",
   "nbconvert_exporter": "python",
   "pygments_lexer": "ipython3",
   "version": "3.12.3"
  }
 },
 "nbformat": 4,
 "nbformat_minor": 5
}
