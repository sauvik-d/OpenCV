{
 "cells": [
  {
   "cell_type": "code",
   "execution_count": 1,
   "id": "a6e2cbf5",
   "metadata": {},
   "outputs": [],
   "source": [
    "import cv2\n",
    "import numpy as np"
   ]
  },
  {
   "cell_type": "code",
   "execution_count": 7,
   "id": "5944439b",
   "metadata": {},
   "outputs": [],
   "source": [
    "canvas = np.ones((500, 500, 3))"
   ]
  },
  {
   "cell_type": "code",
   "execution_count": 14,
   "id": "2e4ff02c",
   "metadata": {},
   "outputs": [
    {
     "data": {
      "text/plain": [
       "array([[[  0., 255., 100.],\n",
       "        [  0., 255., 100.],\n",
       "        [  0., 255., 100.],\n",
       "        ...,\n",
       "        [  1.,   1.,   1.],\n",
       "        [  1.,   1.,   1.],\n",
       "        [  1.,   1.,   1.]],\n",
       "\n",
       "       [[  0., 255., 100.],\n",
       "        [  0., 255., 100.],\n",
       "        [  0., 255., 100.],\n",
       "        ...,\n",
       "        [  1.,   1.,   1.],\n",
       "        [  1.,   1.,   1.],\n",
       "        [  1.,   1.,   1.]],\n",
       "\n",
       "       [[  0., 255., 100.],\n",
       "        [  0., 255., 100.],\n",
       "        [  0., 255., 100.],\n",
       "        ...,\n",
       "        [  1.,   1.,   1.],\n",
       "        [  1.,   1.,   1.],\n",
       "        [  1.,   1.,   1.]],\n",
       "\n",
       "       ...,\n",
       "\n",
       "       [[  1.,   1.,   1.],\n",
       "        [  1.,   1.,   1.],\n",
       "        [  1.,   1.,   1.],\n",
       "        ...,\n",
       "        [  1.,   1.,   1.],\n",
       "        [  1.,   1.,   1.],\n",
       "        [  1.,   1.,   1.]],\n",
       "\n",
       "       [[  1.,   1.,   1.],\n",
       "        [  1.,   1.,   1.],\n",
       "        [  1.,   1.,   1.],\n",
       "        ...,\n",
       "        [  1.,   1.,   1.],\n",
       "        [  1.,   1.,   1.],\n",
       "        [  1.,   1.,   1.]],\n",
       "\n",
       "       [[  1.,   1.,   1.],\n",
       "        [  1.,   1.,   1.],\n",
       "        [  1.,   1.,   1.],\n",
       "        ...,\n",
       "        [  1.,   1.,   1.],\n",
       "        [  1.,   1.,   1.],\n",
       "        [  1.,   1.,   1.]]])"
      ]
     },
     "execution_count": 14,
     "metadata": {},
     "output_type": "execute_result"
    }
   ],
   "source": [
    "# Drawing a line # types of line: LINE_4, LINE_8, LINE_AA\n",
    "# line 4 and line 8 bresenham algorithm\n",
    "cv2.line(canvas, (0, 0), (100, 100), (0, 255, 100), 4, cv2.LINE_4)\n",
    "cv2.line(canvas, (0, 20), (120, 120), (0, 255, 100), 4, cv2.LINE_AA)"
   ]
  },
  {
   "cell_type": "code",
   "execution_count": 15,
   "id": "6a987a95",
   "metadata": {},
   "outputs": [
    {
     "data": {
      "text/plain": [
       "array([[[  0., 255., 100.],\n",
       "        [  0., 255., 100.],\n",
       "        [  0., 255., 100.],\n",
       "        ...,\n",
       "        [  1.,   1.,   1.],\n",
       "        [  1.,   1.,   1.],\n",
       "        [  1.,   1.,   1.]],\n",
       "\n",
       "       [[  0., 255., 100.],\n",
       "        [  0., 255., 100.],\n",
       "        [  0., 255., 100.],\n",
       "        ...,\n",
       "        [  1.,   1.,   1.],\n",
       "        [  1.,   1.,   1.],\n",
       "        [  1.,   1.,   1.]],\n",
       "\n",
       "       [[  0., 255., 100.],\n",
       "        [  0., 255., 100.],\n",
       "        [  0., 255., 100.],\n",
       "        ...,\n",
       "        [  1.,   1.,   1.],\n",
       "        [  1.,   1.,   1.],\n",
       "        [  1.,   1.,   1.]],\n",
       "\n",
       "       ...,\n",
       "\n",
       "       [[  1.,   1.,   1.],\n",
       "        [  1.,   1.,   1.],\n",
       "        [  1.,   1.,   1.],\n",
       "        ...,\n",
       "        [  1.,   1.,   1.],\n",
       "        [  1.,   1.,   1.],\n",
       "        [  1.,   1.,   1.]],\n",
       "\n",
       "       [[  1.,   1.,   1.],\n",
       "        [  1.,   1.,   1.],\n",
       "        [  1.,   1.,   1.],\n",
       "        ...,\n",
       "        [  1.,   1.,   1.],\n",
       "        [  1.,   1.,   1.],\n",
       "        [  1.,   1.,   1.]],\n",
       "\n",
       "       [[  1.,   1.,   1.],\n",
       "        [  1.,   1.,   1.],\n",
       "        [  1.,   1.,   1.],\n",
       "        ...,\n",
       "        [  1.,   1.,   1.],\n",
       "        [  1.,   1.,   1.],\n",
       "        [  1.,   1.,   1.]]])"
      ]
     },
     "execution_count": 15,
     "metadata": {},
     "output_type": "execute_result"
    }
   ],
   "source": [
    "cv2.rectangle(canvas, (200, 200), (250, 270), (0, 0, 255), -1)"
   ]
  },
  {
   "cell_type": "code",
   "execution_count": 16,
   "id": "8aae5729",
   "metadata": {},
   "outputs": [],
   "source": [
    "cv2.imshow(\"winname\", canvas)\n",
    "cv2.waitKey(20000)\n",
    "cv2.destroyAllWindows()"
   ]
  },
  {
   "cell_type": "code",
   "execution_count": null,
   "id": "ef83760d",
   "metadata": {},
   "outputs": [],
   "source": []
  }
 ],
 "metadata": {
  "kernelspec": {
   "display_name": "Python 3 (ipykernel)",
   "language": "python",
   "name": "python3"
  },
  "language_info": {
   "codemirror_mode": {
    "name": "ipython",
    "version": 3
   },
   "file_extension": ".py",
   "mimetype": "text/x-python",
   "name": "python",
   "nbconvert_exporter": "python",
   "pygments_lexer": "ipython3",
   "version": "3.12.3"
  }
 },
 "nbformat": 4,
 "nbformat_minor": 5
}
